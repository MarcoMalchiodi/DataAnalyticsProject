{
 "cells": [
  {
   "cell_type": "code",
   "execution_count": 7,
   "metadata": {},
   "outputs": [],
   "source": [
    "import re\n",
    "\n",
    "def process_text(file_path, output_path):\n",
    "    with open(file_path, 'r', encoding='utf-8') as file:\n",
    "        lines = file.readlines()\n",
    "\n",
    "    processed_lines = []\n",
    "    for line in lines:\n",
    "        # Replace 'M' with a space\n",
    "        line = line.replace('M', ' ')\n",
    "        \n",
    "        # Preserve indentation (capture leading spaces)\n",
    "        leading_spaces = re.match(r'^\\s*', line).group()\n",
    "\n",
    "        # Remove extra spaces **within** the line and replace them with commas\n",
    "        line_content = re.sub(r'\\s+', ',', line.strip())  # Remove extra spaces\n",
    "        \n",
    "        # Reconstruct the line with preserved indentation\n",
    "        processed_lines.append(leading_spaces + line_content)\n",
    "\n",
    "    # Save the processed text\n",
    "    with open(output_path, 'w', encoding='utf-8') as file:\n",
    "        file.write('\\n'.join(processed_lines))\n",
    "\n",
    "# Example usage\n",
    "input_file = \"STEday23.txt\"\n",
    "output_file = \"STEDAY23_CLEAN.txt\"\n",
    "process_text(input_file, output_file)\n"
   ]
  },
  {
   "cell_type": "code",
   "execution_count": 1,
   "metadata": {},
   "outputs": [],
   "source": [
    "import pandas as pd\n",
    "\n",
    "def txt_to_excel(input_txt, output_excel):\n",
    "    # Read the text file into a DataFrame (assuming commas separate columns)\n",
    "    df = pd.read_csv(input_txt, sep=\",\", header=None)  # No header in the text file\n",
    "    \n",
    "    # Save the DataFrame to an Excel file\n",
    "    df.to_excel(output_excel, index=False, header=False)\n",
    "\n",
    "# Example usage\n",
    "input_file = \"STEDAY23_CLEAN.txt\"\n",
    "output_file = \"STEDAY23_CLEAN.xlsx\"\n",
    "txt_to_excel(input_file, output_file)\n"
   ]
  }
 ],
 "metadata": {
  "kernelspec": {
   "display_name": "Python 3",
   "language": "python",
   "name": "python3"
  },
  "language_info": {
   "codemirror_mode": {
    "name": "ipython",
    "version": 3
   },
   "file_extension": ".py",
   "mimetype": "text/x-python",
   "name": "python",
   "nbconvert_exporter": "python",
   "pygments_lexer": "ipython3",
   "version": "3.11.4"
  }
 },
 "nbformat": 4,
 "nbformat_minor": 2
}
